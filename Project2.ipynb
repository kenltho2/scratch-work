{
  "nbformat": 4,
  "nbformat_minor": 0,
  "metadata": {
    "colab": {
      "name": "Project2.ipynb",
      "provenance": [],
      "collapsed_sections": [],
      "authorship_tag": "ABX9TyPvnPqQqa2AfnYyBMi6/HBA",
      "include_colab_link": true
    },
    "kernelspec": {
      "name": "python3",
      "display_name": "Python 3"
    }
  },
  "cells": [
    {
      "cell_type": "markdown",
      "metadata": {
        "id": "view-in-github",
        "colab_type": "text"
      },
      "source": [
        "<a href=\"https://colab.research.google.com/github/kenltho2/scratch-work/blob/main/Project2.ipynb\" target=\"_parent\"><img src=\"https://colab.research.google.com/assets/colab-badge.svg\" alt=\"Open In Colab\"/></a>"
      ]
    },
    {
      "cell_type": "markdown",
      "metadata": {
        "id": "WEGQQE91V6MH"
      },
      "source": [
        "#Project 2: Differentiation\r\n",
        "**Numerical Methods CPSMA 4413, Dr. Jacob \\\\\r\n",
        "Kennedy Thomas (sole member of Group 11)**"
      ]
    },
    {
      "cell_type": "markdown",
      "metadata": {
        "id": "IZTM37KSWEtr"
      },
      "source": [
        "#**Programming the Derivative Approximations**\r\n",
        "**I started this project by recycling and updating the error functions I wrote in Project 1, as they still work but still have room for improvement. Next, I wrote a function that simply returns $e^x$ at any given x.**"
      ]
    },
    {
      "cell_type": "code",
      "metadata": {
        "id": "6Bg7wurIVtm4"
      },
      "source": [
        "import math\r\n",
        "import pandas as pd\r\n",
        "import numpy as np\r\n",
        "import matplotlib.pyplot as plt\r\n",
        "\r\n",
        "\r\n",
        "def TrueError(true_value, approx_value):\r\n",
        "    terror = true_value - approx_value\r\n",
        "    return terror\r\n",
        "\r\n",
        "def rTrueError(true_value,approx_value):\r\n",
        "    rterror = (true_value - approx_value) / true_value\r\n",
        "    return rterror\r\n",
        "\r\n",
        " \r\n",
        "#Updated relative True Error function to take true_value and approx_value rather\r\n",
        "#than TrueError and true_value to make input less time consuming\r\n",
        "\r\n",
        " \r\n",
        "def f(x):\r\n",
        "  return math.exp(x)"
      ],
      "execution_count": null,
      "outputs": []
    },
    {
      "cell_type": "markdown",
      "metadata": {
        "id": "5QdwcVB1W6ul"
      },
      "source": [
        "**I am ready to write my functions for approximating the derivative using the Forward Divided Difference (FDD) method, the Backward Divided Difference (BDD) method, and the Central Divided Difference (CDD) method.**"
      ]
    },
    {
      "cell_type": "code",
      "metadata": {
        "id": "WaFCCJ0HXYVg"
      },
      "source": [
        "def fdd(x,h):\r\n",
        "  fdd_dx = (f(x + h) - f(x)) / h\r\n",
        "  return fdd_dx\r\n",
        "\r\n",
        "def bdd(x,h):\r\n",
        "  bdd_dx = (f(x) - f(x - h)) / h\r\n",
        "  return bdd_dx\r\n",
        "\r\n",
        "def cdd(x,h):\r\n",
        "  cdd_dx = (f(x + h) - f(x - h)) / (2 * h)\r\n",
        "  return cdd_dx\r\n",
        "\r\n",
        "def secondorder(x,h):\r\n",
        "  sodx = (f(x + h) - 2 * f(x) + f(x - h)) / (h**2)\r\n",
        "  return sodx \r\n",
        "\r\n",
        "  "
      ],
      "execution_count": null,
      "outputs": []
    },
    {
      "cell_type": "markdown",
      "metadata": {
        "id": "4gOZZHKpdGxi"
      },
      "source": [
        "#**Error Dataframes**\r\n",
        "**With the functions written, I can begin to organize the data. Below are several dataframes, each containing the approximations using each method and the true error and relative error of each approximation at 5 different values for h.**"
      ]
    },
    {
      "cell_type": "code",
      "metadata": {
        "colab": {
          "base_uri": "https://localhost:8080/",
          "height": 204
        },
        "id": "Hdj8zGsVU5hu",
        "outputId": "6d2c5d71-68de-4ccd-c373-9ea1ce275365"
      },
      "source": [
        "#General Pandas dataframe that contains all of the approximations for the derivative and the actual value.\r\n",
        "\r\n",
        "d = {'Step Size (h)': [0.1,0.05,0.025,0.0125,0.00625],\r\n",
        "     'e^x':[f(2),f(2),f(2),f(2),f(2)],\r\n",
        "     'FDD':[fdd(2,0.1),fdd(2,0.05),fdd(2,0.025),fdd(2,0.0125),fdd(2,0.00625)],\r\n",
        "     'BDD':[bdd(2,0.1),bdd(2,0.05),bdd(2,0.025),bdd(2,0.0125),bdd(2,0.00625)],\r\n",
        "     'CDD':[cdd(2,0.1),cdd(2,0.05),cdd(2,0.025),cdd(2,0.0125),cdd(2,0.00625)],\r\n",
        "     'f\"(x) approximation':[secondorder(2,0.1),secondorder(2,0.05),secondorder(2,0.025),secondorder(2,0.0125),secondorder(2,0.00625)]\r\n",
        "     }\r\n",
        "\r\n",
        "df = pd.DataFrame(data=d)\r\n",
        "df"
      ],
      "execution_count": null,
      "outputs": [
        {
          "output_type": "execute_result",
          "data": {
            "text/html": [
              "<div>\n",
              "<style scoped>\n",
              "    .dataframe tbody tr th:only-of-type {\n",
              "        vertical-align: middle;\n",
              "    }\n",
              "\n",
              "    .dataframe tbody tr th {\n",
              "        vertical-align: top;\n",
              "    }\n",
              "\n",
              "    .dataframe thead th {\n",
              "        text-align: right;\n",
              "    }\n",
              "</style>\n",
              "<table border=\"1\" class=\"dataframe\">\n",
              "  <thead>\n",
              "    <tr style=\"text-align: right;\">\n",
              "      <th></th>\n",
              "      <th>Step Size (h)</th>\n",
              "      <th>e^x</th>\n",
              "      <th>FDD</th>\n",
              "      <th>BDD</th>\n",
              "      <th>CDD</th>\n",
              "      <th>f\"(x) approximation</th>\n",
              "    </tr>\n",
              "  </thead>\n",
              "  <tbody>\n",
              "    <tr>\n",
              "      <th>0</th>\n",
              "      <td>0.10000</td>\n",
              "      <td>7.389056</td>\n",
              "      <td>7.771138</td>\n",
              "      <td>7.031617</td>\n",
              "      <td>7.401377</td>\n",
              "      <td>7.395216</td>\n",
              "    </tr>\n",
              "    <tr>\n",
              "      <th>1</th>\n",
              "      <td>0.05000</td>\n",
              "      <td>7.389056</td>\n",
              "      <td>7.576900</td>\n",
              "      <td>7.207370</td>\n",
              "      <td>7.392135</td>\n",
              "      <td>7.390596</td>\n",
              "    </tr>\n",
              "    <tr>\n",
              "      <th>2</th>\n",
              "      <td>0.02500</td>\n",
              "      <td>7.389056</td>\n",
              "      <td>7.482194</td>\n",
              "      <td>7.297458</td>\n",
              "      <td>7.389826</td>\n",
              "      <td>7.389441</td>\n",
              "    </tr>\n",
              "    <tr>\n",
              "      <th>3</th>\n",
              "      <td>0.01250</td>\n",
              "      <td>7.389056</td>\n",
              "      <td>7.435431</td>\n",
              "      <td>7.343066</td>\n",
              "      <td>7.389249</td>\n",
              "      <td>7.389152</td>\n",
              "    </tr>\n",
              "    <tr>\n",
              "      <th>4</th>\n",
              "      <td>0.00625</td>\n",
              "      <td>7.389056</td>\n",
              "      <td>7.412195</td>\n",
              "      <td>7.366013</td>\n",
              "      <td>7.389104</td>\n",
              "      <td>7.389080</td>\n",
              "    </tr>\n",
              "  </tbody>\n",
              "</table>\n",
              "</div>"
            ],
            "text/plain": [
              "   Step Size (h)       e^x       FDD       BDD       CDD  f\"(x) approximation\n",
              "0        0.10000  7.389056  7.771138  7.031617  7.401377             7.395216\n",
              "1        0.05000  7.389056  7.576900  7.207370  7.392135             7.390596\n",
              "2        0.02500  7.389056  7.482194  7.297458  7.389826             7.389441\n",
              "3        0.01250  7.389056  7.435431  7.343066  7.389249             7.389152\n",
              "4        0.00625  7.389056  7.412195  7.366013  7.389104             7.389080"
            ]
          },
          "metadata": {
            "tags": []
          },
          "execution_count": 6
        }
      ]
    },
    {
      "cell_type": "code",
      "metadata": {
        "colab": {
          "base_uri": "https://localhost:8080/",
          "height": 204
        },
        "id": "e_bSL2T6U9T7",
        "outputId": "9700d251-50a6-4a5f-d106-ef1f9f531acc"
      },
      "source": [
        "#Pandas dataframe for the forward difference and the absolute and relative error.\r\n",
        "\r\n",
        "\r\n",
        "r = {'FDD':[fdd(2,0.1),fdd(2,0.05),fdd(2,0.025),fdd(2,0.0125),fdd(2,0.00625)],\r\n",
        "     'e^x':[f(2),f(2),f(2),f(2),f(2)],\r\n",
        "     'True Error':[TrueError(f(2),fdd(2,0.1)),TrueError(f(2),fdd(2,0.05)),TrueError(f(2),fdd(2,0.025)),TrueError(f(2),fdd(2,0.0125)),TrueError(f(2),fdd(2,0.00625))],\r\n",
        "     'Relative True Error': [rTrueError(f(2),fdd(2,0.1)),rTrueError(f(2),fdd(2,0.05)),rTrueError(f(2),fdd(2,0.025)),rTrueError(f(2),fdd(2,0.0125)),rTrueError(f(2),fdd(2,0.00625))]\r\n",
        "     }\r\n",
        "\r\n",
        "df_forward = pd.DataFrame(data=r)\r\n",
        "df_forward"
      ],
      "execution_count": null,
      "outputs": [
        {
          "output_type": "execute_result",
          "data": {
            "text/html": [
              "<div>\n",
              "<style scoped>\n",
              "    .dataframe tbody tr th:only-of-type {\n",
              "        vertical-align: middle;\n",
              "    }\n",
              "\n",
              "    .dataframe tbody tr th {\n",
              "        vertical-align: top;\n",
              "    }\n",
              "\n",
              "    .dataframe thead th {\n",
              "        text-align: right;\n",
              "    }\n",
              "</style>\n",
              "<table border=\"1\" class=\"dataframe\">\n",
              "  <thead>\n",
              "    <tr style=\"text-align: right;\">\n",
              "      <th></th>\n",
              "      <th>FDD</th>\n",
              "      <th>e^x</th>\n",
              "      <th>True Error</th>\n",
              "      <th>Relative True Error</th>\n",
              "    </tr>\n",
              "  </thead>\n",
              "  <tbody>\n",
              "    <tr>\n",
              "      <th>0</th>\n",
              "      <td>7.771138</td>\n",
              "      <td>7.389056</td>\n",
              "      <td>-0.382082</td>\n",
              "      <td>-0.051709</td>\n",
              "    </tr>\n",
              "    <tr>\n",
              "      <th>1</th>\n",
              "      <td>7.576900</td>\n",
              "      <td>7.389056</td>\n",
              "      <td>-0.187844</td>\n",
              "      <td>-0.025422</td>\n",
              "    </tr>\n",
              "    <tr>\n",
              "      <th>2</th>\n",
              "      <td>7.482194</td>\n",
              "      <td>7.389056</td>\n",
              "      <td>-0.093138</td>\n",
              "      <td>-0.012605</td>\n",
              "    </tr>\n",
              "    <tr>\n",
              "      <th>3</th>\n",
              "      <td>7.435431</td>\n",
              "      <td>7.389056</td>\n",
              "      <td>-0.046375</td>\n",
              "      <td>-0.006276</td>\n",
              "    </tr>\n",
              "    <tr>\n",
              "      <th>4</th>\n",
              "      <td>7.412195</td>\n",
              "      <td>7.389056</td>\n",
              "      <td>-0.023139</td>\n",
              "      <td>-0.003132</td>\n",
              "    </tr>\n",
              "  </tbody>\n",
              "</table>\n",
              "</div>"
            ],
            "text/plain": [
              "        FDD       e^x  True Error  Relative True Error\n",
              "0  7.771138  7.389056   -0.382082            -0.051709\n",
              "1  7.576900  7.389056   -0.187844            -0.025422\n",
              "2  7.482194  7.389056   -0.093138            -0.012605\n",
              "3  7.435431  7.389056   -0.046375            -0.006276\n",
              "4  7.412195  7.389056   -0.023139            -0.003132"
            ]
          },
          "metadata": {
            "tags": []
          },
          "execution_count": 34
        }
      ]
    },
    {
      "cell_type": "code",
      "metadata": {
        "colab": {
          "base_uri": "https://localhost:8080/",
          "height": 204
        },
        "id": "3wLfAqGNfH32",
        "outputId": "5cced71e-0b59-441f-e3fa-7703677d7e84"
      },
      "source": [
        "#Pandas dataframe for the backward difference and the absolute and relative error.\r\n",
        "\r\n",
        "\r\n",
        "b = {'BDD':[bdd(2,0.1),bdd(2,0.05),bdd(2,0.025),bdd(2,0.0125),bdd(2,0.00625)],\r\n",
        "     'e^x':[f(2),f(2),f(2),f(2),f(2)],\r\n",
        "     'True Error':[TrueError(f(2),bdd(2,0.1)),TrueError(f(2),bdd(2,0.05)),TrueError(f(2),bdd(2,0.025)),TrueError(f(2),bdd(2,0.0125)),TrueError(f(2),bdd(2,0.00625))],\r\n",
        "     'Relative True Error': [rTrueError(f(2),bdd(2,0.1)),rTrueError(f(2),bdd(2,0.05)),rTrueError(f(2),bdd(2,0.025)),rTrueError(f(2),bdd(2,0.0125)),rTrueError(f(2),bdd(2,0.00625))]\r\n",
        "     }\r\n",
        "\r\n",
        "df_backward = pd.DataFrame(data=b)\r\n",
        "df_backward"
      ],
      "execution_count": null,
      "outputs": [
        {
          "output_type": "execute_result",
          "data": {
            "text/html": [
              "<div>\n",
              "<style scoped>\n",
              "    .dataframe tbody tr th:only-of-type {\n",
              "        vertical-align: middle;\n",
              "    }\n",
              "\n",
              "    .dataframe tbody tr th {\n",
              "        vertical-align: top;\n",
              "    }\n",
              "\n",
              "    .dataframe thead th {\n",
              "        text-align: right;\n",
              "    }\n",
              "</style>\n",
              "<table border=\"1\" class=\"dataframe\">\n",
              "  <thead>\n",
              "    <tr style=\"text-align: right;\">\n",
              "      <th></th>\n",
              "      <th>BDD</th>\n",
              "      <th>e^x</th>\n",
              "      <th>True Error</th>\n",
              "      <th>Relative True Error</th>\n",
              "    </tr>\n",
              "  </thead>\n",
              "  <tbody>\n",
              "    <tr>\n",
              "      <th>0</th>\n",
              "      <td>7.031617</td>\n",
              "      <td>7.389056</td>\n",
              "      <td>0.357440</td>\n",
              "      <td>0.048374</td>\n",
              "    </tr>\n",
              "    <tr>\n",
              "      <th>1</th>\n",
              "      <td>7.207370</td>\n",
              "      <td>7.389056</td>\n",
              "      <td>0.181686</td>\n",
              "      <td>0.024588</td>\n",
              "    </tr>\n",
              "    <tr>\n",
              "      <th>2</th>\n",
              "      <td>7.297458</td>\n",
              "      <td>7.389056</td>\n",
              "      <td>0.091598</td>\n",
              "      <td>0.012396</td>\n",
              "    </tr>\n",
              "    <tr>\n",
              "      <th>3</th>\n",
              "      <td>7.343066</td>\n",
              "      <td>7.389056</td>\n",
              "      <td>0.045990</td>\n",
              "      <td>0.006224</td>\n",
              "    </tr>\n",
              "    <tr>\n",
              "      <th>4</th>\n",
              "      <td>7.366013</td>\n",
              "      <td>7.389056</td>\n",
              "      <td>0.023043</td>\n",
              "      <td>0.003118</td>\n",
              "    </tr>\n",
              "  </tbody>\n",
              "</table>\n",
              "</div>"
            ],
            "text/plain": [
              "        BDD       e^x  True Error  Relative True Error\n",
              "0  7.031617  7.389056    0.357440             0.048374\n",
              "1  7.207370  7.389056    0.181686             0.024588\n",
              "2  7.297458  7.389056    0.091598             0.012396\n",
              "3  7.343066  7.389056    0.045990             0.006224\n",
              "4  7.366013  7.389056    0.023043             0.003118"
            ]
          },
          "metadata": {
            "tags": []
          },
          "execution_count": 8
        }
      ]
    },
    {
      "cell_type": "code",
      "metadata": {
        "colab": {
          "base_uri": "https://localhost:8080/",
          "height": 204
        },
        "id": "Gzf_8w4hYyKj",
        "outputId": "d1a4c2ba-9d75-40e1-db6f-30a43498c565"
      },
      "source": [
        "#Pandas dataframe for the central difference and the absolute and relative error.\r\n",
        "\r\n",
        "\r\n",
        "c = {'CDD':[cdd(2,0.1),cdd(2,0.05),cdd(2,0.025),cdd(2,0.0125),cdd(2,0.00625)],\r\n",
        "     'e^x':[f(2),f(2),f(2),f(2),f(2)],\r\n",
        "     'True Error':[TrueError(f(2),cdd(2,0.1)),TrueError(f(2),cdd(2,0.05)),TrueError(f(2),cdd(2,0.025)),TrueError(f(2),cdd(2,0.0125)),TrueError(f(2),cdd(2,0.00625))],\r\n",
        "     'Relative True Error': [rTrueError(f(2),cdd(2,0.1)),rTrueError(f(2),cdd(2,0.05)),rTrueError(f(2),cdd(2,0.025)),rTrueError(f(2),cdd(2,0.0125)),rTrueError(f(2),cdd(2,0.00625))]\r\n",
        "     }\r\n",
        "\r\n",
        "df_central = pd.DataFrame(data=c)\r\n",
        "df_central"
      ],
      "execution_count": null,
      "outputs": [
        {
          "output_type": "execute_result",
          "data": {
            "text/html": [
              "<div>\n",
              "<style scoped>\n",
              "    .dataframe tbody tr th:only-of-type {\n",
              "        vertical-align: middle;\n",
              "    }\n",
              "\n",
              "    .dataframe tbody tr th {\n",
              "        vertical-align: top;\n",
              "    }\n",
              "\n",
              "    .dataframe thead th {\n",
              "        text-align: right;\n",
              "    }\n",
              "</style>\n",
              "<table border=\"1\" class=\"dataframe\">\n",
              "  <thead>\n",
              "    <tr style=\"text-align: right;\">\n",
              "      <th></th>\n",
              "      <th>CDD</th>\n",
              "      <th>e^x</th>\n",
              "      <th>True Error</th>\n",
              "      <th>Relative True Error</th>\n",
              "    </tr>\n",
              "  </thead>\n",
              "  <tbody>\n",
              "    <tr>\n",
              "      <th>0</th>\n",
              "      <td>7.401377</td>\n",
              "      <td>7.389056</td>\n",
              "      <td>-0.012321</td>\n",
              "      <td>-0.001668</td>\n",
              "    </tr>\n",
              "    <tr>\n",
              "      <th>1</th>\n",
              "      <td>7.392135</td>\n",
              "      <td>7.389056</td>\n",
              "      <td>-0.003079</td>\n",
              "      <td>-0.000417</td>\n",
              "    </tr>\n",
              "    <tr>\n",
              "      <th>2</th>\n",
              "      <td>7.389826</td>\n",
              "      <td>7.389056</td>\n",
              "      <td>-0.000770</td>\n",
              "      <td>-0.000104</td>\n",
              "    </tr>\n",
              "    <tr>\n",
              "      <th>3</th>\n",
              "      <td>7.389249</td>\n",
              "      <td>7.389056</td>\n",
              "      <td>-0.000192</td>\n",
              "      <td>-0.000026</td>\n",
              "    </tr>\n",
              "    <tr>\n",
              "      <th>4</th>\n",
              "      <td>7.389104</td>\n",
              "      <td>7.389056</td>\n",
              "      <td>-0.000048</td>\n",
              "      <td>-0.000007</td>\n",
              "    </tr>\n",
              "  </tbody>\n",
              "</table>\n",
              "</div>"
            ],
            "text/plain": [
              "        CDD       e^x  True Error  Relative True Error\n",
              "0  7.401377  7.389056   -0.012321            -0.001668\n",
              "1  7.392135  7.389056   -0.003079            -0.000417\n",
              "2  7.389826  7.389056   -0.000770            -0.000104\n",
              "3  7.389249  7.389056   -0.000192            -0.000026\n",
              "4  7.389104  7.389056   -0.000048            -0.000007"
            ]
          },
          "metadata": {
            "tags": []
          },
          "execution_count": 9
        }
      ]
    },
    {
      "cell_type": "code",
      "metadata": {
        "id": "cCMCqgXHHoYY"
      },
      "source": [
        ""
      ],
      "execution_count": null,
      "outputs": []
    },
    {
      "cell_type": "markdown",
      "metadata": {
        "id": "pc6fh8CmDuoR"
      },
      "source": [
        "#**Lagrange Interpolation**\r\n",
        "**The Lagrange Interpolation is a linear combination used to approximate the derivative of a function given k+1 data points. It is defined as follows:**\r\n",
        "\r\n",
        "$L(x)=\\sum_{j=0}^{k}y_jl_j(x)$ \\\\\r\n",
        "\r\n",
        "\\\\\r\n",
        "**Where**\r\n",
        "\r\n",
        "$l_j(x)= \\prod_{i=0,i\\neq j}^{k}\\frac{x-x_i}{x_j-x_i}$ \\\\"
      ]
    },
    {
      "cell_type": "markdown",
      "metadata": {
        "id": "PPRCZ4iaHs84"
      },
      "source": [
        "**For this particular assignment, we are given 3 data points. So the degree of the polynomial will be 3-1=2. I begin by setting up two arrays to hold my x and y points. Next, I created an array to hold the data given by the Lagrange Interpolation. I then wrote the for loop that performs the interpolation. I then graphed the points, the interpolation, and the derivative of my function. From Calculus I, we know $\\frac{d}{dx}(e^x)=e^x$, so I did not have to do any extra calculations to find the exact value of the derivative at the given points.**"
      ]
    },
    {
      "cell_type": "code",
      "metadata": {
        "colab": {
          "base_uri": "https://localhost:8080/",
          "height": 296
        },
        "id": "JJ9cEZ5DgWQH",
        "outputId": "d44ba973-9b5a-4b8c-d48b-b8b16fe1ee6f"
      },
      "source": [
        "x = np.array([2,2.1,4])\r\n",
        "\r\n",
        "y = np.array([f(2),f(2.1),f(4)])\r\n",
        "\r\n",
        "xl = np.linspace(x_values[0],x_values[-1])\r\n",
        "\r\n",
        "yl = np.array([])\r\n",
        "\r\n",
        "for px in xl:\r\n",
        "  py = 0\r\n",
        "  for xi,yi in zip(x,y):\r\n",
        "    py += yi * np.prod((px - x[x!=xi]) / (xi - x[x!=xi]))\r\n",
        "  yl = np.append(yl,py)\r\n",
        "\r\n",
        "x_true = np.arange(2,4,.01)\r\n",
        "plt.plot(x,y,'ro')\r\n",
        "plt.plot(xl,yl,'b-', label = 'Lagrange Interpolation')\r\n",
        "plt.plot( x_true,np.exp(x_true),'g-', label = 'e^x')\r\n",
        "plt.xlabel('x')\r\n",
        "plt.ylabel('y')\r\n",
        "plt.legend()"
      ],
      "execution_count": null,
      "outputs": [
        {
          "output_type": "execute_result",
          "data": {
            "text/plain": [
              "<matplotlib.legend.Legend at 0x7f7eeccd99e8>"
            ]
          },
          "metadata": {
            "tags": []
          },
          "execution_count": 16
        },
        {
          "output_type": "display_data",
          "data": {
            "image/png": "[encoded data removed]",
            "text/plain": [
              "<Figure size 432x288 with 1 Axes>"
            ]
          },
          "metadata": {
            "tags": [],
            "needs_background": "light"
          }
        }
      ]
    },
    {
      "cell_type": "code",
      "metadata": {
        "colab": {
          "base_uri": "https://localhost:8080/",
          "height": 1000
        },
        "id": "DGy2hboPSiOy",
        "outputId": "53ff4c08-e01a-4f2b-f5a6-07d2101942f8"
      },
      "source": [
        "#x and y values for the Lagrange Interpolation of e^x\n",
        "\n",
        "df_l = pd.DataFrame(yl,xl)\n",
        "df_l"
      ],
      "execution_count": 39,
      "outputs": [
        {
          "output_type": "execute_result",
          "data": {
            "text/html": [
              "<div>\n",
              "<style scoped>\n",
              "    .dataframe tbody tr th:only-of-type {\n",
              "        vertical-align: middle;\n",
              "    }\n",
              "\n",
              "    .dataframe tbody tr th {\n",
              "        vertical-align: top;\n",
              "    }\n",
              "\n",
              "    .dataframe thead th {\n",
              "        text-align: right;\n",
              "    }\n",
              "</style>\n",
              "<table border=\"1\" class=\"dataframe\">\n",
              "  <thead>\n",
              "    <tr style=\"text-align: right;\">\n",
              "      <th></th>\n",
              "      <th>0</th>\n",
              "    </tr>\n",
              "  </thead>\n",
              "  <tbody>\n",
              "    <tr>\n",
              "      <th>2.000000</th>\n",
              "      <td>7.389056</td>\n",
              "    </tr>\n",
              "    <tr>\n",
              "      <th>2.040816</th>\n",
              "      <td>7.686115</td>\n",
              "    </tr>\n",
              "    <tr>\n",
              "      <th>2.081633</th>\n",
              "      <td>8.010940</td>\n",
              "    </tr>\n",
              "    <tr>\n",
              "      <th>2.122449</th>\n",
              "      <td>8.363531</td>\n",
              "    </tr>\n",
              "    <tr>\n",
              "      <th>2.163265</th>\n",
              "      <td>8.743889</td>\n",
              "    </tr>\n",
              "    <tr>\n",
              "      <th>2.204082</th>\n",
              "      <td>9.152013</td>\n",
              "    </tr>\n",
              "    <tr>\n",
              "      <th>2.244898</th>\n",
              "      <td>9.587903</td>\n",
              "    </tr>\n",
              "    <tr>\n",
              "      <th>2.285714</th>\n",
              "      <td>10.051560</td>\n",
              "    </tr>\n",
              "    <tr>\n",
              "      <th>2.326531</th>\n",
              "      <td>10.542983</td>\n",
              "    </tr>\n",
              "    <tr>\n",
              "      <th>2.367347</th>\n",
              "      <td>11.062173</td>\n",
              "    </tr>\n",
              "    <tr>\n",
              "      <th>2.408163</th>\n",
              "      <td>11.609129</td>\n",
              "    </tr>\n",
              "    <tr>\n",
              "      <th>2.448980</th>\n",
              "      <td>12.183851</td>\n",
              "    </tr>\n",
              "    <tr>\n",
              "      <th>2.489796</th>\n",
              "      <td>12.786339</td>\n",
              "    </tr>\n",
              "    <tr>\n",
              "      <th>2.530612</th>\n",
              "      <td>13.416594</td>\n",
              "    </tr>\n",
              "    <tr>\n",
              "      <th>2.571429</th>\n",
              "      <td>14.074615</td>\n",
              "    </tr>\n",
              "    <tr>\n",
              "      <th>2.612245</th>\n",
              "      <td>14.760403</td>\n",
              "    </tr>\n",
              "    <tr>\n",
              "      <th>2.653061</th>\n",
              "      <td>15.473956</td>\n",
              "    </tr>\n",
              "    <tr>\n",
              "      <th>2.693878</th>\n",
              "      <td>16.215277</td>\n",
              "    </tr>\n",
              "    <tr>\n",
              "      <th>2.734694</th>\n",
              "      <td>16.984363</td>\n",
              "    </tr>\n",
              "    <tr>\n",
              "      <th>2.775510</th>\n",
              "      <td>17.781216</td>\n",
              "    </tr>\n",
              "    <tr>\n",
              "      <th>2.816327</th>\n",
              "      <td>18.605835</td>\n",
              "    </tr>\n",
              "    <tr>\n",
              "      <th>2.857143</th>\n",
              "      <td>19.458221</td>\n",
              "    </tr>\n",
              "    <tr>\n",
              "      <th>2.897959</th>\n",
              "      <td>20.338373</td>\n",
              "    </tr>\n",
              "    <tr>\n",
              "      <th>2.938776</th>\n",
              "      <td>21.246291</td>\n",
              "    </tr>\n",
              "    <tr>\n",
              "      <th>2.979592</th>\n",
              "      <td>22.181975</td>\n",
              "    </tr>\n",
              "    <tr>\n",
              "      <th>3.020408</th>\n",
              "      <td>23.145426</td>\n",
              "    </tr>\n",
              "    <tr>\n",
              "      <th>3.061224</th>\n",
              "      <td>24.136643</td>\n",
              "    </tr>\n",
              "    <tr>\n",
              "      <th>3.102041</th>\n",
              "      <td>25.155627</td>\n",
              "    </tr>\n",
              "    <tr>\n",
              "      <th>3.142857</th>\n",
              "      <td>26.202377</td>\n",
              "    </tr>\n",
              "    <tr>\n",
              "      <th>3.183673</th>\n",
              "      <td>27.276893</td>\n",
              "    </tr>\n",
              "    <tr>\n",
              "      <th>3.224490</th>\n",
              "      <td>28.379176</td>\n",
              "    </tr>\n",
              "    <tr>\n",
              "      <th>3.265306</th>\n",
              "      <td>29.509225</td>\n",
              "    </tr>\n",
              "    <tr>\n",
              "      <th>3.306122</th>\n",
              "      <td>30.667040</td>\n",
              "    </tr>\n",
              "    <tr>\n",
              "      <th>3.346939</th>\n",
              "      <td>31.852622</td>\n",
              "    </tr>\n",
              "    <tr>\n",
              "      <th>3.387755</th>\n",
              "      <td>33.065970</td>\n",
              "    </tr>\n",
              "    <tr>\n",
              "      <th>3.428571</th>\n",
              "      <td>34.307084</td>\n",
              "    </tr>\n",
              "    <tr>\n",
              "      <th>3.469388</th>\n",
              "      <td>35.575965</td>\n",
              "    </tr>\n",
              "    <tr>\n",
              "      <th>3.510204</th>\n",
              "      <td>36.872612</td>\n",
              "    </tr>\n",
              "    <tr>\n",
              "      <th>3.551020</th>\n",
              "      <td>38.197025</td>\n",
              "    </tr>\n",
              "    <tr>\n",
              "      <th>3.591837</th>\n",
              "      <td>39.549205</td>\n",
              "    </tr>\n",
              "    <tr>\n",
              "      <th>3.632653</th>\n",
              "      <td>40.929151</td>\n",
              "    </tr>\n",
              "    <tr>\n",
              "      <th>3.673469</th>\n",
              "      <td>42.336863</td>\n",
              "    </tr>\n",
              "    <tr>\n",
              "      <th>3.714286</th>\n",
              "      <td>43.772342</td>\n",
              "    </tr>\n",
              "    <tr>\n",
              "      <th>3.755102</th>\n",
              "      <td>45.235587</td>\n",
              "    </tr>\n",
              "    <tr>\n",
              "      <th>3.795918</th>\n",
              "      <td>46.726598</td>\n",
              "    </tr>\n",
              "    <tr>\n",
              "      <th>3.836735</th>\n",
              "      <td>48.245376</td>\n",
              "    </tr>\n",
              "    <tr>\n",
              "      <th>3.877551</th>\n",
              "      <td>49.791920</td>\n",
              "    </tr>\n",
              "    <tr>\n",
              "      <th>3.918367</th>\n",
              "      <td>51.366230</td>\n",
              "    </tr>\n",
              "    <tr>\n",
              "      <th>3.959184</th>\n",
              "      <td>52.968307</td>\n",
              "    </tr>\n",
              "    <tr>\n",
              "      <th>4.000000</th>\n",
              "      <td>54.598150</td>\n",
              "    </tr>\n",
              "  </tbody>\n",
              "</table>\n",
              "</div>"
            ],
            "text/plain": [
              "                  0\n",
              "2.000000   7.389056\n",
              "2.040816   7.686115\n",
              "2.081633   8.010940\n",
              "2.122449   8.363531\n",
              "2.163265   8.743889\n",
              "2.204082   9.152013\n",
              "2.244898   9.587903\n",
              "2.285714  10.051560\n",
              "2.326531  10.542983\n",
              "2.367347  11.062173\n",
              "2.408163  11.609129\n",
              "2.448980  12.183851\n",
              "2.489796  12.786339\n",
              "2.530612  13.416594\n",
              "2.571429  14.074615\n",
              "2.612245  14.760403\n",
              "2.653061  15.473956\n",
              "2.693878  16.215277\n",
              "2.734694  16.984363\n",
              "2.775510  17.781216\n",
              "2.816327  18.605835\n",
              "2.857143  19.458221\n",
              "2.897959  20.338373\n",
              "2.938776  21.246291\n",
              "2.979592  22.181975\n",
              "3.020408  23.145426\n",
              "3.061224  24.136643\n",
              "3.102041  25.155627\n",
              "3.142857  26.202377\n",
              "3.183673  27.276893\n",
              "3.224490  28.379176\n",
              "3.265306  29.509225\n",
              "3.306122  30.667040\n",
              "3.346939  31.852622\n",
              "3.387755  33.065970\n",
              "3.428571  34.307084\n",
              "3.469388  35.575965\n",
              "3.510204  36.872612\n",
              "3.551020  38.197025\n",
              "3.591837  39.549205\n",
              "3.632653  40.929151\n",
              "3.673469  42.336863\n",
              "3.714286  43.772342\n",
              "3.755102  45.235587\n",
              "3.795918  46.726598\n",
              "3.836735  48.245376\n",
              "3.877551  49.791920\n",
              "3.918367  51.366230\n",
              "3.959184  52.968307\n",
              "4.000000  54.598150"
            ]
          },
          "metadata": {
            "tags": []
          },
          "execution_count": 39
        }
      ]
    },
    {
      "cell_type": "code",
      "metadata": {
        "colab": {
          "base_uri": "https://localhost:8080/"
        },
        "id": "HTAL5W5uVG1d",
        "outputId": "c8c73879-027a-49d0-984b-5984a1a7433c"
      },
      "source": [
        "print(f(2.204082))"
      ],
      "execution_count": null,
      "outputs": [
        {
          "output_type": "stream",
          "text": [
            "9.06192889760724\n"
          ],
          "name": "stdout"
        }
      ]
    },
    {
      "cell_type": "markdown",
      "metadata": {
        "id": "NvrIEvq9Utb_"
      },
      "source": [
        "**From the table above, we see that $L(2.204)=9.152$. For the sake of continuity, I used the unrounded numbers in all of the calculations. With that being said, I found the true value of $e^x$ at $x=2.204082$. With that number I found the true error of the Lagrange Interpolation at $x\\approx2.2$.**"
      ]
    },
    {
      "cell_type": "code",
      "metadata": {
        "colab": {
          "base_uri": "https://localhost:8080/"
        },
        "id": "6oebG_PHXr-t",
        "outputId": "395705d8-7410-4c09-9b9f-e71b92b51f4b"
      },
      "source": [
        "print(TrueError(f(2.204082),9.152013))\r\n",
        "print(rTrueError(f(2.204082),9.152013))"
      ],
      "execution_count": 40,
      "outputs": [
        {
          "output_type": "stream",
          "text": [
            "-0.0900841023927601\n",
            "-0.009940941206959413\n"
          ],
          "name": "stdout"
        }
      ]
    },
    {
      "cell_type": "markdown",
      "metadata": {
        "id": "-Zg1I2C3bkBd"
      },
      "source": [
        "**With a true error of approximately -0.090 and a relative true error of -0.010, the Lagrange polynomial is more than 99% accurate at $x\\approx2.2$.**"
      ]
    },
    {
      "cell_type": "markdown",
      "metadata": {
        "id": "rIJ7K94pd-uJ"
      },
      "source": [
        "#**Conclusion**\r\n",
        "**With each approximation, the error varies. The error is negative when using the FDD method and positive when using the BDD method. The CDD method is the most accurate. It is useless to approximate the derivative of a known function because it is inaccurate to varying degrees, based on the step size. However it is important to understand how it works and why it works. The interpolating factors are different polynomial quotients that are multiplied onto each other. They use the x values given in the data set to determine where the curve should go.**\r\n"
      ]
    }
  ]
}