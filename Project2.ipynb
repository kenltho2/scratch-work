{
  "nbformat": 4,
  "nbformat_minor": 0,
  "metadata": {
    "colab": {
      "name": "Project2.ipynb",
      "provenance": [],
      "authorship_tag": "ABX9TyO1LbatG7ct/Xg93mrgcVho",
      "include_colab_link": true
    },
    "kernelspec": {
      "name": "python3",
      "display_name": "Python 3"
    }
  },
  "cells": [
    {
      "cell_type": "markdown",
      "metadata": {
        "id": "view-in-github",
        "colab_type": "text"
      },
      "source": [
        "<a href=\"https://colab.research.google.com/github/kenltho2/scratch-work/blob/main/Project2.ipynb\" target=\"_parent\"><img src=\"https://colab.research.google.com/assets/colab-badge.svg\" alt=\"Open In Colab\"/></a>"
      ]
    },
    {
      "cell_type": "markdown",
      "metadata": {
        "id": "WEGQQE91V6MH"
      },
      "source": [
        "#Project 2: Differentiation\r\n",
        "Numerical Methods CPSMA 4413, Dr. Jacob \\\\\r\n",
        "Kennedy Thomas (sole member of Group 11) \\\\\r\n",
        "**I started this project by recycling the error functions I wrote in Project 1, as they still work the same. Next, I wrote a function for $e^x$.**"
      ]
    },
    {
      "cell_type": "code",
      "metadata": {
        "id": "6Bg7wurIVtm4"
      },
      "source": [
        "import math\r\n",
        "import pandas as pd\r\n",
        "import numpy as np\r\n",
        "import matplotlib.pyplot as plt\r\n",
        "\r\n",
        "\r\n",
        "def TrueError(true_value, approx_value):\r\n",
        "    terror = true_value - approx_value\r\n",
        "    return terror\r\n",
        "\r\n",
        "def rTrueError(true_value,approx_value):\r\n",
        "    rterror = (true_value - approx_value) / true_value\r\n",
        "    return rterror\r\n",
        "\r\n",
        "def ApproxError (current_approx, previous_approx):\r\n",
        "    if previous_approx == '' :\r\n",
        "      return 'None'\r\n",
        "    else:\r\n",
        "      aerror = current_approx - previous_approx\r\n",
        "    return aerror \r\n",
        "\r\n",
        "def relativeApproxError(ApproxError, current_approx):\r\n",
        "    if current_approx == 0:\r\n",
        "      return 'None'\r\n",
        "    else:\r\n",
        "      raerror = ApproxError / current_approx\r\n",
        "      return raerror\r\n",
        "\r\n",
        "def f(x):\r\n",
        "  return math.exp(x)"
      ],
      "execution_count": 45,
      "outputs": []
    },
    {
      "cell_type": "markdown",
      "metadata": {
        "id": "5QdwcVB1W6ul"
      },
      "source": [
        "**I am ready to write my functions for approximating the derivative using the Forward Divided Difference (FDD) method, the Backward Divided Difference (BDD) method, and the Central Divided Difference (CDD) method.**"
      ]
    },
    {
      "cell_type": "code",
      "metadata": {
        "id": "WaFCCJ0HXYVg"
      },
      "source": [
        "def fdd(x,h):\r\n",
        "  fdd_dx = (f(x + h) - f(x)) / h\r\n",
        "  return fdd_dx\r\n",
        "\r\n",
        "def bdd(x,h):\r\n",
        "  bdd_dx = (f(x) - f(x - h)) / h\r\n",
        "  return bdd_dx\r\n",
        "\r\n",
        "def cdd(x,h):\r\n",
        "  cdd_dx = (f(x + h) - f(x - h)) / (2 * h)\r\n",
        "  return cdd_dx\r\n",
        "\r\n",
        "def secondorder(x,h):\r\n",
        "  sodx = (f(x + h) - 2 * f(x) + f(x - h)) / (h**2)\r\n",
        "  return sodx \r\n",
        "\r\n",
        "  "
      ],
      "execution_count": null,
      "outputs": []
    },
    {
      "cell_type": "markdown",
      "metadata": {
        "id": "4gOZZHKpdGxi"
      },
      "source": [
        "**With the functions written, I can begin to organize the data. Below are several dataframes, each containing the approximations using each method and the true error and relative error of each approximation at 5 different values for h.**"
      ]
    },
    {
      "cell_type": "code",
      "metadata": {
        "colab": {
          "base_uri": "https://localhost:8080/",
          "height": 204
        },
        "id": "Hdj8zGsVU5hu",
        "outputId": "e87114c5-84c2-4785-f23f-0be4056fdc2d"
      },
      "source": [
        "#General Pandas dataframe that contains all of the approximations for the derivative and the actual value.\r\n",
        "\r\n",
        "d = {'Step Size (h)': [0.1,0.05,0.025,0.0125,0.00625],\r\n",
        "     'e^x':[f(2),f(2),f(2),f(2),f(2)],\r\n",
        "     'FDD':[fdd(2,0.1),fdd(2,0.05),fdd(2,0.025),fdd(2,0.0125),fdd(2,0.00625)],\r\n",
        "     'BDD':[bdd(2,0.1),bdd(2,0.05),bdd(2,0.025),bdd(2,0.0125),bdd(2,0.00625)],\r\n",
        "     'CDD':[cdd(2,0.1),cdd(2,0.05),cdd(2,0.025),cdd(2,0.0125),cdd(2,0.00625)],\r\n",
        "     'f\"(x) approximation':[secondorder(2,0.1),secondorder(2,0.05),secondorder(2,0.025),secondorder(2,0.0125),secondorder(2,0.00625)]\r\n",
        "     }\r\n",
        "\r\n",
        "df = pd.DataFrame(data=d)\r\n",
        "df"
      ],
      "execution_count": 64,
      "outputs": [
        {
          "output_type": "execute_result",
          "data": {
            "text/html": [
              "<div>\n",
              "<style scoped>\n",
              "    .dataframe tbody tr th:only-of-type {\n",
              "        vertical-align: middle;\n",
              "    }\n",
              "\n",
              "    .dataframe tbody tr th {\n",
              "        vertical-align: top;\n",
              "    }\n",
              "\n",
              "    .dataframe thead th {\n",
              "        text-align: right;\n",
              "    }\n",
              "</style>\n",
              "<table border=\"1\" class=\"dataframe\">\n",
              "  <thead>\n",
              "    <tr style=\"text-align: right;\">\n",
              "      <th></th>\n",
              "      <th>Step Size (h)</th>\n",
              "      <th>e^x</th>\n",
              "      <th>FDD</th>\n",
              "      <th>BDD</th>\n",
              "      <th>CDD</th>\n",
              "      <th>f\"(x) approximation</th>\n",
              "    </tr>\n",
              "  </thead>\n",
              "  <tbody>\n",
              "    <tr>\n",
              "      <th>0</th>\n",
              "      <td>0.10000</td>\n",
              "      <td>7.389056</td>\n",
              "      <td>7.771138</td>\n",
              "      <td>7.031617</td>\n",
              "      <td>7.401377</td>\n",
              "      <td>7.395216</td>\n",
              "    </tr>\n",
              "    <tr>\n",
              "      <th>1</th>\n",
              "      <td>0.05000</td>\n",
              "      <td>7.389056</td>\n",
              "      <td>7.576900</td>\n",
              "      <td>7.207370</td>\n",
              "      <td>7.392135</td>\n",
              "      <td>7.390596</td>\n",
              "    </tr>\n",
              "    <tr>\n",
              "      <th>2</th>\n",
              "      <td>0.02500</td>\n",
              "      <td>7.389056</td>\n",
              "      <td>7.482194</td>\n",
              "      <td>7.297458</td>\n",
              "      <td>7.389826</td>\n",
              "      <td>7.389441</td>\n",
              "    </tr>\n",
              "    <tr>\n",
              "      <th>3</th>\n",
              "      <td>0.01250</td>\n",
              "      <td>7.389056</td>\n",
              "      <td>7.435431</td>\n",
              "      <td>7.343066</td>\n",
              "      <td>7.389249</td>\n",
              "      <td>7.389152</td>\n",
              "    </tr>\n",
              "    <tr>\n",
              "      <th>4</th>\n",
              "      <td>0.00625</td>\n",
              "      <td>7.389056</td>\n",
              "      <td>7.412195</td>\n",
              "      <td>7.366013</td>\n",
              "      <td>7.389104</td>\n",
              "      <td>7.389080</td>\n",
              "    </tr>\n",
              "  </tbody>\n",
              "</table>\n",
              "</div>"
            ],
            "text/plain": [
              "   Step Size (h)       e^x       FDD       BDD       CDD  f\"(x) approximation\n",
              "0        0.10000  7.389056  7.771138  7.031617  7.401377             7.395216\n",
              "1        0.05000  7.389056  7.576900  7.207370  7.392135             7.390596\n",
              "2        0.02500  7.389056  7.482194  7.297458  7.389826             7.389441\n",
              "3        0.01250  7.389056  7.435431  7.343066  7.389249             7.389152\n",
              "4        0.00625  7.389056  7.412195  7.366013  7.389104             7.389080"
            ]
          },
          "metadata": {
            "tags": []
          },
          "execution_count": 64
        }
      ]
    },
    {
      "cell_type": "code",
      "metadata": {
        "colab": {
          "base_uri": "https://localhost:8080/",
          "height": 204
        },
        "id": "e_bSL2T6U9T7",
        "outputId": "c7634384-b00d-451a-ba3f-892754a19842"
      },
      "source": [
        "#Pandas dataframe for the forward difference and the absolute and relative error.\r\n",
        "\r\n",
        "\r\n",
        "r = {'FDD':[fdd(2,0.1),fdd(2,0.05),fdd(2,0.025),fdd(2,0.0125),fdd(2,0.00625)],\r\n",
        "     'e^x':[f(2),f(2),f(2),f(2),f(2)],\r\n",
        "     'True Error':[TrueError(f(2),fdd(2,0.1)),TrueError(f(2),fdd(2,0.05)),TrueError(f(2),fdd(2,0.025)),TrueError(f(2),fdd(2,0.0125)),TrueError(f(2),fdd(2,0.00625))],\r\n",
        "     'Relative True Error': [rTrueError(f(2),fdd(2,0.1)),rTrueError(f(2),fdd(2,0.05)),rTrueError(f(2),fdd(2,0.025)),rTrueError(f(2),fdd(2,0.0125)),rTrueError(f(2),fdd(2,0.00625))]\r\n",
        "     }\r\n",
        "\r\n",
        "df_forward = pd.DataFrame(data=r)\r\n",
        "df_forward"
      ],
      "execution_count": 65,
      "outputs": [
        {
          "output_type": "execute_result",
          "data": {
            "text/html": [
              "<div>\n",
              "<style scoped>\n",
              "    .dataframe tbody tr th:only-of-type {\n",
              "        vertical-align: middle;\n",
              "    }\n",
              "\n",
              "    .dataframe tbody tr th {\n",
              "        vertical-align: top;\n",
              "    }\n",
              "\n",
              "    .dataframe thead th {\n",
              "        text-align: right;\n",
              "    }\n",
              "</style>\n",
              "<table border=\"1\" class=\"dataframe\">\n",
              "  <thead>\n",
              "    <tr style=\"text-align: right;\">\n",
              "      <th></th>\n",
              "      <th>FDD</th>\n",
              "      <th>e^x</th>\n",
              "      <th>True Error</th>\n",
              "      <th>Relative True Error</th>\n",
              "    </tr>\n",
              "  </thead>\n",
              "  <tbody>\n",
              "    <tr>\n",
              "      <th>0</th>\n",
              "      <td>7.771138</td>\n",
              "      <td>7.389056</td>\n",
              "      <td>-0.382082</td>\n",
              "      <td>-0.051709</td>\n",
              "    </tr>\n",
              "    <tr>\n",
              "      <th>1</th>\n",
              "      <td>7.576900</td>\n",
              "      <td>7.389056</td>\n",
              "      <td>-0.187844</td>\n",
              "      <td>-0.025422</td>\n",
              "    </tr>\n",
              "    <tr>\n",
              "      <th>2</th>\n",
              "      <td>7.482194</td>\n",
              "      <td>7.389056</td>\n",
              "      <td>-0.093138</td>\n",
              "      <td>-0.012605</td>\n",
              "    </tr>\n",
              "    <tr>\n",
              "      <th>3</th>\n",
              "      <td>7.435431</td>\n",
              "      <td>7.389056</td>\n",
              "      <td>-0.046375</td>\n",
              "      <td>-0.006276</td>\n",
              "    </tr>\n",
              "    <tr>\n",
              "      <th>4</th>\n",
              "      <td>7.412195</td>\n",
              "      <td>7.389056</td>\n",
              "      <td>-0.023139</td>\n",
              "      <td>-0.003132</td>\n",
              "    </tr>\n",
              "  </tbody>\n",
              "</table>\n",
              "</div>"
            ],
            "text/plain": [
              "        FDD       e^x  True Error  Relative True Error\n",
              "0  7.771138  7.389056   -0.382082            -0.051709\n",
              "1  7.576900  7.389056   -0.187844            -0.025422\n",
              "2  7.482194  7.389056   -0.093138            -0.012605\n",
              "3  7.435431  7.389056   -0.046375            -0.006276\n",
              "4  7.412195  7.389056   -0.023139            -0.003132"
            ]
          },
          "metadata": {
            "tags": []
          },
          "execution_count": 65
        }
      ]
    },
    {
      "cell_type": "code",
      "metadata": {
        "colab": {
          "base_uri": "https://localhost:8080/",
          "height": 204
        },
        "id": "3wLfAqGNfH32",
        "outputId": "c53fa301-7ad4-4c4a-fbb3-626223327ef7"
      },
      "source": [
        "#Pandas dataframe for the backward difference and the absolute and relative error.\r\n",
        "\r\n",
        "\r\n",
        "b = {'BDD':[bdd(2,0.1),bdd(2,0.05),bdd(2,0.025),bdd(2,0.0125),bdd(2,0.00625)],\r\n",
        "     'e^x':[f(2),f(2),f(2),f(2),f(2)],\r\n",
        "     'True Error':[TrueError(f(2),bdd(2,0.1)),TrueError(f(2),bdd(2,0.05)),TrueError(f(2),bdd(2,0.025)),TrueError(f(2),bdd(2,0.0125)),TrueError(f(2),bdd(2,0.00625))],\r\n",
        "     'Relative True Error': [rTrueError(f(2),bdd(2,0.1)),rTrueError(f(2),bdd(2,0.05)),rTrueError(f(2),bdd(2,0.025)),rTrueError(f(2),bdd(2,0.0125)),rTrueError(f(2),bdd(2,0.00625))]\r\n",
        "     }\r\n",
        "\r\n",
        "df_backward = pd.DataFrame(data=b)\r\n",
        "df_backward"
      ],
      "execution_count": 66,
      "outputs": [
        {
          "output_type": "execute_result",
          "data": {
            "text/html": [
              "<div>\n",
              "<style scoped>\n",
              "    .dataframe tbody tr th:only-of-type {\n",
              "        vertical-align: middle;\n",
              "    }\n",
              "\n",
              "    .dataframe tbody tr th {\n",
              "        vertical-align: top;\n",
              "    }\n",
              "\n",
              "    .dataframe thead th {\n",
              "        text-align: right;\n",
              "    }\n",
              "</style>\n",
              "<table border=\"1\" class=\"dataframe\">\n",
              "  <thead>\n",
              "    <tr style=\"text-align: right;\">\n",
              "      <th></th>\n",
              "      <th>BDD</th>\n",
              "      <th>e^x</th>\n",
              "      <th>True Error</th>\n",
              "      <th>Relative True Error</th>\n",
              "    </tr>\n",
              "  </thead>\n",
              "  <tbody>\n",
              "    <tr>\n",
              "      <th>0</th>\n",
              "      <td>7.031617</td>\n",
              "      <td>7.389056</td>\n",
              "      <td>0.357440</td>\n",
              "      <td>0.048374</td>\n",
              "    </tr>\n",
              "    <tr>\n",
              "      <th>1</th>\n",
              "      <td>7.207370</td>\n",
              "      <td>7.389056</td>\n",
              "      <td>0.181686</td>\n",
              "      <td>0.024588</td>\n",
              "    </tr>\n",
              "    <tr>\n",
              "      <th>2</th>\n",
              "      <td>7.297458</td>\n",
              "      <td>7.389056</td>\n",
              "      <td>0.091598</td>\n",
              "      <td>0.012396</td>\n",
              "    </tr>\n",
              "    <tr>\n",
              "      <th>3</th>\n",
              "      <td>7.343066</td>\n",
              "      <td>7.389056</td>\n",
              "      <td>0.045990</td>\n",
              "      <td>0.006224</td>\n",
              "    </tr>\n",
              "    <tr>\n",
              "      <th>4</th>\n",
              "      <td>7.366013</td>\n",
              "      <td>7.389056</td>\n",
              "      <td>0.023043</td>\n",
              "      <td>0.003118</td>\n",
              "    </tr>\n",
              "  </tbody>\n",
              "</table>\n",
              "</div>"
            ],
            "text/plain": [
              "        BDD       e^x  True Error  Relative True Error\n",
              "0  7.031617  7.389056    0.357440             0.048374\n",
              "1  7.207370  7.389056    0.181686             0.024588\n",
              "2  7.297458  7.389056    0.091598             0.012396\n",
              "3  7.343066  7.389056    0.045990             0.006224\n",
              "4  7.366013  7.389056    0.023043             0.003118"
            ]
          },
          "metadata": {
            "tags": []
          },
          "execution_count": 66
        }
      ]
    },
    {
      "cell_type": "code",
      "metadata": {
        "colab": {
          "base_uri": "https://localhost:8080/",
          "height": 204
        },
        "id": "Gzf_8w4hYyKj",
        "outputId": "53252e94-47a6-406b-e79d-49d10f2187ce"
      },
      "source": [
        "#Pandas dataframe for the central difference and the absolute and relative error.\r\n",
        "\r\n",
        "\r\n",
        "c = {'CDD':[cdd(2,0.1),cdd(2,0.05),cdd(2,0.025),cdd(2,0.0125),cdd(2,0.00625)],\r\n",
        "     'e^x':[f(2),f(2),f(2),f(2),f(2)],\r\n",
        "     'True Error':[TrueError(f(2),cdd(2,0.1)),TrueError(f(2),cdd(2,0.05)),TrueError(f(2),cdd(2,0.025)),TrueError(f(2),cdd(2,0.0125)),TrueError(f(2),cdd(2,0.00625))],\r\n",
        "     'Relative True Error': [rTrueError(f(2),cdd(2,0.1)),rTrueError(f(2),cdd(2,0.05)),rTrueError(f(2),cdd(2,0.025)),rTrueError(f(2),cdd(2,0.0125)),rTrueError(f(2),cdd(2,0.00625))]\r\n",
        "     }\r\n",
        "\r\n",
        "df_central = pd.DataFrame(data=c)\r\n",
        "df_central"
      ],
      "execution_count": 67,
      "outputs": [
        {
          "output_type": "execute_result",
          "data": {
            "text/html": [
              "<div>\n",
              "<style scoped>\n",
              "    .dataframe tbody tr th:only-of-type {\n",
              "        vertical-align: middle;\n",
              "    }\n",
              "\n",
              "    .dataframe tbody tr th {\n",
              "        vertical-align: top;\n",
              "    }\n",
              "\n",
              "    .dataframe thead th {\n",
              "        text-align: right;\n",
              "    }\n",
              "</style>\n",
              "<table border=\"1\" class=\"dataframe\">\n",
              "  <thead>\n",
              "    <tr style=\"text-align: right;\">\n",
              "      <th></th>\n",
              "      <th>CDD</th>\n",
              "      <th>e^x</th>\n",
              "      <th>True Error</th>\n",
              "      <th>Relative True Error</th>\n",
              "    </tr>\n",
              "  </thead>\n",
              "  <tbody>\n",
              "    <tr>\n",
              "      <th>0</th>\n",
              "      <td>7.401377</td>\n",
              "      <td>7.389056</td>\n",
              "      <td>-0.012321</td>\n",
              "      <td>-0.001668</td>\n",
              "    </tr>\n",
              "    <tr>\n",
              "      <th>1</th>\n",
              "      <td>7.392135</td>\n",
              "      <td>7.389056</td>\n",
              "      <td>-0.003079</td>\n",
              "      <td>-0.000417</td>\n",
              "    </tr>\n",
              "    <tr>\n",
              "      <th>2</th>\n",
              "      <td>7.389826</td>\n",
              "      <td>7.389056</td>\n",
              "      <td>-0.000770</td>\n",
              "      <td>-0.000104</td>\n",
              "    </tr>\n",
              "    <tr>\n",
              "      <th>3</th>\n",
              "      <td>7.389249</td>\n",
              "      <td>7.389056</td>\n",
              "      <td>-0.000192</td>\n",
              "      <td>-0.000026</td>\n",
              "    </tr>\n",
              "    <tr>\n",
              "      <th>4</th>\n",
              "      <td>7.389104</td>\n",
              "      <td>7.389056</td>\n",
              "      <td>-0.000048</td>\n",
              "      <td>-0.000007</td>\n",
              "    </tr>\n",
              "  </tbody>\n",
              "</table>\n",
              "</div>"
            ],
            "text/plain": [
              "        CDD       e^x  True Error  Relative True Error\n",
              "0  7.401377  7.389056   -0.012321            -0.001668\n",
              "1  7.392135  7.389056   -0.003079            -0.000417\n",
              "2  7.389826  7.389056   -0.000770            -0.000104\n",
              "3  7.389249  7.389056   -0.000192            -0.000026\n",
              "4  7.389104  7.389056   -0.000048            -0.000007"
            ]
          },
          "metadata": {
            "tags": []
          },
          "execution_count": 67
        }
      ]
    },
    {
      "cell_type": "code",
      "metadata": {
        "colab": {
          "base_uri": "https://localhost:8080/",
          "height": 296
        },
        "id": "JJ9cEZ5DgWQH",
        "outputId": "ea76a5c1-345e-485c-8d18-a5a37b9c7afe"
      },
      "source": [
        "x_values = np.array([2,2.1,4])\r\n",
        "\r\n",
        "y_values = np.array([f(2),f(2.1),f(4)])\r\n",
        "\r\n",
        "xl = np.linspace(x_values[0],x_values[-1])\r\n",
        "\r\n",
        "yl = np.array([])\r\n",
        "\r\n",
        "for px in xl:\r\n",
        "  py = 0\r\n",
        "  for xi,yi in zip(x,y):\r\n",
        "    py += yi * np.prod((px - x[x!=xi]) / (xi - x[x!=xi]))\r\n",
        "  yl = np.append(yl,py)\r\n",
        "\r\n",
        "x_true = np.arange(2,4,.01)\r\n",
        "plt.plot(x_values,y_values,'ro',xl,yl,'b-')\r\n",
        "plt.plot(xl,yl,'b-', label = 'Lagrange Interpolation')\r\n",
        "plt.plot( x_true,np.exp(x_true),'g-', label = 'e^x')\r\n",
        "plt.xlabel('x')\r\n",
        "plt.ylabel('y')\r\n",
        "plt.legend()"
      ],
      "execution_count": 68,
      "outputs": [
        {
          "output_type": "execute_result",
          "data": {
            "text/plain": [
              "<matplotlib.legend.Legend at 0x7f6572e61390>"
            ]
          },
          "metadata": {
            "tags": []
          },
          "execution_count": 68
        },
        {
          "output_type": "display_data",
          "data": {
            "image/png": "[encoded data removed]",
            "text/plain": [
              "<Figure size 432x288 with 1 Axes>"
            ]
          },
          "metadata": {
            "tags": [],
            "needs_background": "light"
          }
        }
      ]
    }
  ]
}