{
  "nbformat": 4,
  "nbformat_minor": 0,
  "metadata": {
    "colab": {
      "name": "practice.ipynb",
      "provenance": [],
      "authorship_tag": "ABX9TyMA8PHipImg6Cw9cnDqJ28+",
      "include_colab_link": true
    },
    "kernelspec": {
      "name": "python3",
      "display_name": "Python 3"
    }
  },
  "cells": [
    {
      "cell_type": "markdown",
      "metadata": {
        "id": "view-in-github",
        "colab_type": "text"
      },
      "source": [
        "<a href=\"https://colab.research.google.com/github/kenltho2/scratch-work/blob/main/practice.ipynb\" target=\"_parent\"><img src=\"https://colab.research.google.com/assets/colab-badge.svg\" alt=\"Open In Colab\"/></a>"
      ]
    },
    {
      "cell_type": "code",
      "metadata": {
        "id": "t2DfQU9ZEXZh"
      },
      "source": [
        "def square():\r\n",
        "  for z in range(1,100):\r\n",
        "      x = z * z\r\n",
        "      print(x)\r\n",
        "      z=z+1\r\n",
        "  else:\r\n",
        "    print(\"Complete\")\r\n",
        "square()"
      ],
      "execution_count": null,
      "outputs": []
    },
    {
      "cell_type": "code",
      "metadata": {
        "colab": {
          "base_uri": "https://localhost:8080/",
          "height": 527
        },
        "id": "K-HAj5e3meoY",
        "outputId": "6b85db1b-4197-47a2-e6df-24a429a4237a"
      },
      "source": [
        "import math\r\n",
        "import pandas as pd\r\n",
        "import numpy as np\r\n",
        "import matplotlib.pyplot as plt\r\n",
        "from pandas.core.dtypes.dtypes import ExtensionDtype\r\n",
        "\r\n",
        "\r\n",
        "def TrueError(true_value, approx_value):\r\n",
        "    terror = true_value - approx_value\r\n",
        "    return terror\r\n",
        "\r\n",
        "def relativeTrueError(TrueError, true_value):\r\n",
        "    rterror = TrueError / true_value\r\n",
        "    return rterror\r\n",
        "\r\n",
        "def ApproxError (current_approx, previous_approx):\r\n",
        "    if previous_approx == '' :\r\n",
        "      return 'None'\r\n",
        "    else:\r\n",
        "      aerror = current_approx - previous_approx\r\n",
        "    return aerror\r\n",
        "\r\n",
        "def relativeApproxError(ApproxError, current_approx):\r\n",
        "    if current_approx == 0:\r\n",
        "      return 'None'\r\n",
        "    else:\r\n",
        "      raerror = ApproxError / current_approx\r\n",
        "      return raerror\r\n",
        "\r\n",
        "def e_to_the_x(x,y):\r\n",
        "  e_approximation = 0\r\n",
        "  for i in range(y):\r\n",
        "    e_approximation += x**i / math.factorial(i)\r\n",
        "  return e_approximation\r\n",
        "\r\n",
        "def T_e_to_the_x(i):\r\n",
        "  return math.exp(i)\r\n",
        "\r\n",
        "def tablevalue(x,n):\r\n",
        "  for i in range(n):\r\n",
        "    return math.exp(x)\r\n",
        "\r\n",
        "def TrueError_func(x,n):\r\n",
        "  for i in range(n):\r\n",
        "   return TrueError(T_e_to_the_x(x),e_to_the_x(x,i))\r\n",
        "    \r\n",
        "def relativeTrueError_func(x,n):\r\n",
        "  for i in range(n):    \r\n",
        "    return relativeTrueError(TrueError(T_e_to_the_x(2),e_to_the_x(x,i)),T_e_to_the_x(2))\r\n",
        "\r\n",
        "def ApproxError_func(x,n):\r\n",
        "  for i in range(n):\r\n",
        "    if i > 1:\r\n",
        "      return ApproxError(e_to_the_x(x,i), e_to_the_x(x, i-1))\r\n",
        "    else:\r\n",
        "      return 'None'\r\n",
        "\r\n",
        "def relativeApproxError_func(x,n):\r\n",
        "  for i in range(n):\r\n",
        "    if i >= 1:\r\n",
        "      return relativeApproxError(ApproxError(e_to_the_x(x,i), e_to_the_x(x, i-1)),e_to_the_x(x,i))\r\n",
        "    else:\r\n",
        "      return 'None'\r\n",
        "\r\n",
        "df = pd.DataFrame(columns = ['Expansion','e^x approximation','e^x value', 'True Error', 'Relative True Error', 'Approximate Error', 'Relative Approximate Error'])\r\n",
        "for i in range(1,21):\r\n",
        " df = df.append({'Expansion': [i],\r\n",
        "             'e^x approximation': [e_to_the_x(2.1,i)],\r\n",
        "             'e^x value': [tablevalue(2.1,i)],\r\n",
        "             'True Error' : [TrueError(T_e_to_the_x(2.1),e_to_the_x(2.1,i))],\r\n",
        "             'Relative True Error' : [relativeTrueError(TrueError(T_e_to_the_x(2.1),e_to_the_x(2.1,i)),T_e_to_the_x(2.1))],\r\n",
        "             'Approximate Error': [ApproxError(e_to_the_x(2.1,i), e_to_the_x(2.1, i-1))],\r\n",
        "             'Relative Approximate Error': [relativeApproxError(ApproxError(e_to_the_x(2.1,i), e_to_the_x(2.1, i-1)),e_to_the_x(2.1,i))]}, ignore_index=True)\r\n",
        "\r\n",
        "df.drop(index = 0)\r\n",
        "expansion = np.array(0)\r\n",
        "for i in range(1,21):\r\n",
        "  expansion = np.append(expansion,i)\r\n",
        "\r\n",
        "ex = np.array(0)\r\n",
        "for i in range(1,21):\r\n",
        "  ex = np.append(ex,e_to_the_x(2.1,i))\r\n",
        "\r\n",
        "calc = np.array(math.exp(2.1))\r\n",
        "for i in range(0,21):\r\n",
        "  calc = np.append(calc, T_e_to_the_x(2.1))\r\n",
        "\r\n",
        "%matplotlib inline\r\n",
        "plt.xlabel('Expansions')\r\n",
        "plt.ylabel('Approximations')\r\n",
        "plt.plot(calc, linestyle = 'dashed')\r\n",
        "plt.scatter(expansion,ex)\r\n",
        "plt.show()\r\n",
        "\r\n",
        "%matplotlib inline\r\n",
        "x = np.array(0)\r\n",
        "for i in range(1,5):\r\n",
        "  x = np.append(x, i)\r\n",
        "\r\n",
        "y = np.array(math.exp(0))\r\n",
        "for i in range(1,5):\r\n",
        "  y = np.append(y, math.exp(i))\r\n",
        "\r\n",
        "e_approx = np.array(e_to_the_x(2.1,5))\r\n",
        "for  i in range(1,5):\r\n",
        "  e_approx = np.append(e_approx, e_to_the_x(2.1,5))\r\n",
        "\r\n",
        "plt.plot(e_approx, ls = ':')\r\n",
        "plt.plot(x,y)\r\n",
        "\r\n",
        "plt.show()\r\n"
      ],
      "execution_count": 91,
      "outputs": [
        {
          "output_type": "display_data",
          "data": {
            "image/png": "[encoded data removed]",
            "text/plain": [
              "<Figure size 432x288 with 1 Axes>"
            ]
          },
          "metadata": {
            "tags": [],
            "needs_background": "light"
          }
        },
        {
          "output_type": "display_data",
          "data": {
            "image/png": "[encoded data removed]",
            "text/plain": [
              "<Figure size 432x288 with 1 Axes>"
            ]
          },
          "metadata": {
            "tags": [],
            "needs_background": "light"
          }
        }
      ]
    }
  ]
}