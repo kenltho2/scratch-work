{
  "nbformat": 4,
  "nbformat_minor": 0,
  "metadata": {
    "colab": {
      "name": "practice.ipynb",
      "provenance": []
    },
    "kernelspec": {
      "name": "python3",
      "display_name": "Python 3"
    }
  },
  "cells": [
    {
      "cell_type": "code",
      "metadata": {
        "id": "t2DfQU9ZEXZh"
      },
      "source": [
        "def square():\r\n",
        "  for z in range(1,100):\r\n",
        "      x = z * z\r\n",
        "      print(x)\r\n",
        "      z=z+1\r\n",
        "  else:\r\n",
        "    print(\"Complete\")\r\n",
        "square()"
      ],
      "execution_count": null,
      "outputs": []
    },
    {
      "cell_type": "code",
      "metadata": {
        "id": "1DsVt9NLTHlv",
        "colab": {
          "base_uri": "https://localhost:8080/"
        },
        "outputId": "1532a28a-12c5-43f3-b35e-fa138c78927e"
      },
      "source": [
        "def TrueError(true_value, approx_value):\r\n",
        "    print(true_value - approx_value) \r\n",
        "\r\n",
        "TrueError(15,16.5)\r\n",
        "\r\n",
        "def RTrueError(TrueError, true_value):\r\n",
        "    print(TrueError / true_value)\r\n",
        "\r\n",
        "RTrueError(-1.5, 15)"
      ],
      "execution_count": 45,
      "outputs": [
        {
          "output_type": "stream",
          "text": [
            "-1.5\n",
            "-0.1\n"
          ],
          "name": "stdout"
        }
      ]
    },
    {
      "cell_type": "code",
      "metadata": {
        "colab": {
          "base_uri": "https://localhost:8080/"
        },
        "id": "RpxQd3DUSQCY",
        "outputId": "2bdfafd0-b7d4-418e-83f6-7f5a1d10b4b2"
      },
      "source": [
        "def ApproxError (current_approx, previous_approx):\r\n",
        "    print(current_approx - previous_approx)\r\n",
        "\r\n",
        "ApproxError(14,12)\r\n",
        "\r\n",
        "def RApproxError(ApproxError, current_approx):\r\n",
        "    print(ApproxError / current_approx)\r\n",
        "\r\n",
        "RApproxError(2,14)\r\n"
      ],
      "execution_count": 52,
      "outputs": [
        {
          "output_type": "stream",
          "text": [
            "2\n",
            "0.14285714285714285\n"
          ],
          "name": "stdout"
        }
      ]
    }
  ]
}