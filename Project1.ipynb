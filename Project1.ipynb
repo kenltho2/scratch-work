{
  "nbformat": 4,
  "nbformat_minor": 0,
  "metadata": {
    "colab": {
      "name": "Project1.ipynb",
      "provenance": [],
      "authorship_tag": "ABX9TyMvqS4V0NO0GTZVJlW1DvWh",
      "include_colab_link": true
    },
    "kernelspec": {
      "name": "python3",
      "display_name": "Python 3"
    }
  },
  "cells": [
    {
      "cell_type": "markdown",
      "metadata": {
        "id": "view-in-github",
        "colab_type": "text"
      },
      "source": [
        "<a href=\"https://colab.research.google.com/github/kenltho2/scratch-work/blob/main/Project1.ipynb\" target=\"_parent\"><img src=\"https://colab.research.google.com/assets/colab-badge.svg\" alt=\"Open In Colab\"/></a>"
      ]
    },
    {
      "cell_type": "markdown",
      "metadata": {
        "id": "gcr9uValzO0w"
      },
      "source": [
        "# Group 12 Coding Project 1\r\n",
        "Numerical Methods CPSMA 4413, Dr. Jacob \\\\\r\n",
        "Kennedy Thomas\r\n",
        "\r\n",
        "\r\n"
      ]
    },
    {
      "cell_type": "markdown",
      "metadata": {
        "id": "vfyuVQRJ1Dy7"
      },
      "source": [
        "I started this project by creating functions to calculate true error, approximate error, and the relative true and approximate error. For my function approximation, I chose $f(x) = e^x$ centered at $x=2$."
      ]
    },
    {
      "cell_type": "code",
      "metadata": {
        "id": "1aL6_C8eJJ-u"
      },
      "source": [
        "import math\r\n",
        "import pandas as pd\r\n",
        "import numpy as np\r\n",
        "import matplotlib.pyplot as plt\r\n",
        "\r\n",
        "\r\n",
        "def TrueError(true_value, approx_value):\r\n",
        "    terror = true_value - approx_value\r\n",
        "    return terror\r\n",
        "\r\n",
        "def relativeTrueError(TrueError, true_value):\r\n",
        "    rterror = TrueError / true_value\r\n",
        "    return rterror\r\n",
        "\r\n",
        "def ApproxError (current_approx, previous_approx):\r\n",
        "    if previous_approx == '' :\r\n",
        "      return 'None'\r\n",
        "    else:\r\n",
        "      aerror = current_approx - previous_approx\r\n",
        "    return aerror \r\n",
        "\r\n",
        "def relativeApproxError(ApproxError, current_approx):\r\n",
        "    if current_approx == 0:\r\n",
        "      return 'None'\r\n",
        "    else:\r\n",
        "      raerror = ApproxError / current_approx\r\n",
        "      return raerror\r\n",
        "\r\n",
        "def e_to_the_x(x,y):\r\n",
        "  e_approximation = 0\r\n",
        "  for i in range(y):\r\n",
        "    e_approximation += x**i / math.factorial(i)\r\n",
        "  return e_approximation\r\n",
        "\r\n",
        "def T_e_to_the_x(i):\r\n",
        "  return math.exp(i)\r\n",
        "\r\n",
        "def tablevalue(x,n):\r\n",
        "  for i in range(n):\r\n",
        "    return math.exp(x)\r\n",
        "\r\n",
        "def TrueError_func(x,n):\r\n",
        "  for i in range(n):\r\n",
        "   return TrueError(T_e_to_the_x(x),e_to_the_x(x,i))\r\n",
        "    \r\n",
        "def relativeTrueError_func(x,n):\r\n",
        "  for i in range(n):    \r\n",
        "    return relativeTrueError(TrueError(T_e_to_the_x(2),e_to_the_x(x,i)),T_e_to_the_x(2))\r\n",
        "\r\n",
        "def ApproxError_func(x,n):\r\n",
        "  for i in range(n):\r\n",
        "    if i >= 1:\r\n",
        "      return ApproxError(e_to_the_x(x,i), e_to_the_x(x, i-1))\r\n",
        "    else:\r\n",
        "      return 'None'\r\n",
        "\r\n",
        "def relativeApproxError_func(x,n):\r\n",
        "    for i in range(n):\r\n",
        "      if i >= 1:\r\n",
        "        return relativeApproxError(ApproxError(e_to_the_x(x,i), e_to_the_x(x, i-1)),e_to_the_x(x,i))\r\n",
        "    else:\r\n",
        "      return 'None'"
      ],
      "execution_count": 35,
      "outputs": []
    },
    {
      "cell_type": "markdown",
      "metadata": {
        "id": "dfaw57KOGNnE"
      },
      "source": [
        "After setting up the functions for my approximation of $e^x$ at $x= 2.1$, I constructed a Pandas DataFrame and used a for loop to append data to the frame for each expansion. With more time, I would have made a few more graphs highlighting how small the error gets with each new expansion."
      ]
    },
    {
      "cell_type": "code",
      "metadata": {
        "colab": {
          "base_uri": "https://localhost:8080/",
          "height": 669
        },
        "id": "SaOWc6JlJBmZ",
        "outputId": "cf5bb07b-9525-427b-8fd6-a099b59d5d81"
      },
      "source": [
        "df = pd.DataFrame(columns = ['Expansion','e^x approximation','e^x value', 'True Error', 'Relative True Error', 'Approximate Error', 'Relative Approximate Error'])\r\n",
        "for i in range(1,21):\r\n",
        " df = df.append({'Expansion': [i],\r\n",
        "             'e^x approximation': [e_to_the_x(2.1,i)],\r\n",
        "             'e^x value': [tablevalue(2.1,i)],\r\n",
        "             'True Error' : [TrueError(T_e_to_the_x(2.1),e_to_the_x(2.1,i))],\r\n",
        "             'Relative True Error' : [relativeTrueError(TrueError(T_e_to_the_x(2.1),e_to_the_x(2.1,i)),T_e_to_the_x(2.1))],\r\n",
        "             'Approximate Error': [ApproxError(e_to_the_x(2.1,i), e_to_the_x(2.1, i-1))],\r\n",
        "             'Relative Approximate Error': [relativeApproxError(ApproxError(e_to_the_x(2.1,i), e_to_the_x(2.1, i-1)),e_to_the_x(2.1,i))]}, ignore_index=True)\r\n",
        "\r\n",
        "df.drop(index = 0)\r\n",
        "df\r\n",
        "\r\n"
      ],
      "execution_count": 37,
      "outputs": [
        {
          "output_type": "execute_result",
          "data": {
            "text/html": [
              "<div>\n",
              "<style scoped>\n",
              "    .dataframe tbody tr th:only-of-type {\n",
              "        vertical-align: middle;\n",
              "    }\n",
              "\n",
              "    .dataframe tbody tr th {\n",
              "        vertical-align: top;\n",
              "    }\n",
              "\n",
              "    .dataframe thead th {\n",
              "        text-align: right;\n",
              "    }\n",
              "</style>\n",
              "<table border=\"1\" class=\"dataframe\">\n",
              "  <thead>\n",
              "    <tr style=\"text-align: right;\">\n",
              "      <th></th>\n",
              "      <th>Expansion</th>\n",
              "      <th>e^x approximation</th>\n",
              "      <th>e^x value</th>\n",
              "      <th>True Error</th>\n",
              "      <th>Relative True Error</th>\n",
              "      <th>Approximate Error</th>\n",
              "      <th>Relative Approximate Error</th>\n",
              "    </tr>\n",
              "  </thead>\n",
              "  <tbody>\n",
              "    <tr>\n",
              "      <th>0</th>\n",
              "      <td>[1]</td>\n",
              "      <td>[1.0]</td>\n",
              "      <td>[8.166169912567652]</td>\n",
              "      <td>[7.166169912567652]</td>\n",
              "      <td>[0.8775435717470181]</td>\n",
              "      <td>[1.0]</td>\n",
              "      <td>[1.0]</td>\n",
              "    </tr>\n",
              "    <tr>\n",
              "      <th>1</th>\n",
              "      <td>[2]</td>\n",
              "      <td>[3.1]</td>\n",
              "      <td>[8.166169912567652]</td>\n",
              "      <td>[5.066169912567652]</td>\n",
              "      <td>[0.6203850724157562]</td>\n",
              "      <td>[2.1]</td>\n",
              "      <td>[0.6774193548387097]</td>\n",
              "    </tr>\n",
              "    <tr>\n",
              "      <th>2</th>\n",
              "      <td>[3]</td>\n",
              "      <td>[5.305]</td>\n",
              "      <td>[8.166169912567652]</td>\n",
              "      <td>[2.861169912567652]</td>\n",
              "      <td>[0.3503686481179311]</td>\n",
              "      <td>[2.2049999999999996]</td>\n",
              "      <td>[0.41564561734213]</td>\n",
              "    </tr>\n",
              "    <tr>\n",
              "      <th>3</th>\n",
              "      <td>[4]</td>\n",
              "      <td>[6.8485]</td>\n",
              "      <td>[8.166169912567652]</td>\n",
              "      <td>[1.317669912567652]</td>\n",
              "      <td>[0.16135715110945362]</td>\n",
              "      <td>[1.5434999999999999]</td>\n",
              "      <td>[0.2253778199605753]</td>\n",
              "    </tr>\n",
              "    <tr>\n",
              "      <th>4</th>\n",
              "      <td>[5]</td>\n",
              "      <td>[7.6588375]</td>\n",
              "      <td>[8.166169912567652]</td>\n",
              "      <td>[0.5073324125676519]</td>\n",
              "      <td>[0.062126115180002876]</td>\n",
              "      <td>[0.8103375000000002]</td>\n",
              "      <td>[0.10580424248458074]</td>\n",
              "    </tr>\n",
              "    <tr>\n",
              "      <th>5</th>\n",
              "      <td>[6]</td>\n",
              "      <td>[7.99917925]</td>\n",
              "      <td>[8.166169912567652]</td>\n",
              "      <td>[0.1669906625676516]</td>\n",
              "      <td>[0.020449080089633538]</td>\n",
              "      <td>[0.34034175000000033]</td>\n",
              "      <td>[0.04254708381488018]</td>\n",
              "    </tr>\n",
              "    <tr>\n",
              "      <th>6</th>\n",
              "      <td>[7]</td>\n",
              "      <td>[8.1182988625]</td>\n",
              "      <td>[8.166169912567652]</td>\n",
              "      <td>[0.04787105006765202]</td>\n",
              "      <td>[0.005862117808004334]</td>\n",
              "      <td>[0.11911961249999958]</td>\n",
              "      <td>[0.01467297700140558]</td>\n",
              "    </tr>\n",
              "    <tr>\n",
              "      <th>7</th>\n",
              "      <td>[8]</td>\n",
              "      <td>[8.15403474625]</td>\n",
              "      <td>[8.166169912567652]</td>\n",
              "      <td>[0.01213516631765188]</td>\n",
              "      <td>[0.0014860291235155398]</td>\n",
              "      <td>[0.03573588375000014]</td>\n",
              "      <td>[0.004382601357743159]</td>\n",
              "    </tr>\n",
              "    <tr>\n",
              "      <th>8</th>\n",
              "      <td>[9]</td>\n",
              "      <td>[8.163415415734375]</td>\n",
              "      <td>[8.166169912567652]</td>\n",
              "      <td>[0.002754496833276221]</td>\n",
              "      <td>[0.00033730584383715535]</td>\n",
              "      <td>[0.009380669484375659]</td>\n",
              "      <td>[0.0011491108814939291]</td>\n",
              "    </tr>\n",
              "    <tr>\n",
              "      <th>9</th>\n",
              "      <td>[10]</td>\n",
              "      <td>[8.165604238614064]</td>\n",
              "      <td>[8.166169912567652]</td>\n",
              "      <td>[0.0005656739535879751]</td>\n",
              "      <td>[6.927041191212648e-05]</td>\n",
              "      <td>[0.002188822879688246]</td>\n",
              "      <td>[0.000268054000136033]</td>\n",
              "    </tr>\n",
              "    <tr>\n",
              "      <th>10</th>\n",
              "      <td>[11]</td>\n",
              "      <td>[8.166063891418798]</td>\n",
              "      <td>[8.166169912567652]</td>\n",
              "      <td>[0.00010602114885394087]</td>\n",
              "      <td>[1.2982971207931323e-05]</td>\n",
              "      <td>[0.00045965280473403425]</td>\n",
              "      <td>[5.628817149190499e-05]</td>\n",
              "    </tr>\n",
              "    <tr>\n",
              "      <th>11</th>\n",
              "      <td>[12]</td>\n",
              "      <td>[8.166151643317884]</td>\n",
              "      <td>[8.166169912567652]</td>\n",
              "      <td>[1.8269249768110285e-05]</td>\n",
              "      <td>[2.237187073464403e-06]</td>\n",
              "      <td>[8.775189908583059e-05]</td>\n",
              "      <td>[1.0745808174850064e-05]</td>\n",
              "    </tr>\n",
              "    <tr>\n",
              "      <th>12</th>\n",
              "      <td>[13]</td>\n",
              "      <td>[8.166166999900224]</td>\n",
              "      <td>[8.166169912567652]</td>\n",
              "      <td>[2.912667428134341e-06]</td>\n",
              "      <td>[3.566748499381302e-07]</td>\n",
              "      <td>[1.5356582339975944e-05]</td>\n",
              "      <td>[1.8805128942579273e-06]</td>\n",
              "    </tr>\n",
              "    <tr>\n",
              "      <th>13</th>\n",
              "      <td>[14]</td>\n",
              "      <td>[8.16616948057891]</td>\n",
              "      <td>[8.166169912567652]</td>\n",
              "      <td>[4.3198874166705536e-07]</td>\n",
              "      <td>[5.2899798350047694e-08]</td>\n",
              "      <td>[2.480678686467286e-06]</td>\n",
              "      <td>[3.0377506765772234e-07]</td>\n",
              "    </tr>\n",
              "    <tr>\n",
              "      <th>14</th>\n",
              "      <td>[15]</td>\n",
              "      <td>[8.166169852680714]</td>\n",
              "      <td>[8.166169912567652]</td>\n",
              "      <td>[5.98869380752376e-08]</td>\n",
              "      <td>[7.333540535701102e-09]</td>\n",
              "      <td>[3.7210180359181777e-07]</td>\n",
              "      <td>[4.5566258148508595e-08]</td>\n",
              "    </tr>\n",
              "    <tr>\n",
              "      <th>15</th>\n",
              "      <td>[16]</td>\n",
              "      <td>[8.166169904774966]</td>\n",
              "      <td>[8.166169912567652]</td>\n",
              "      <td>[7.792685607910244e-09]</td>\n",
              "      <td>[9.542644460431052e-10]</td>\n",
              "      <td>[5.209425246732735e-08]</td>\n",
              "      <td>[6.379276095745513e-09]</td>\n",
              "    </tr>\n",
              "    <tr>\n",
              "      <th>16</th>\n",
              "      <td>[17]</td>\n",
              "      <td>[8.166169911612336]</td>\n",
              "      <td>[8.166169912567652]</td>\n",
              "      <td>[9.553158264452577e-10]</td>\n",
              "      <td>[1.169845639600318e-10]</td>\n",
              "      <td>[6.837369781464986e-09]</td>\n",
              "      <td>[8.372798821810223e-10]</td>\n",
              "    </tr>\n",
              "    <tr>\n",
              "      <th>17</th>\n",
              "      <td>[18]</td>\n",
              "      <td>[8.166169912456953]</td>\n",
              "      <td>[8.166169912567652]</td>\n",
              "      <td>[1.1069900551774481e-10]</td>\n",
              "      <td>[1.3555804826860163e-11]</td>\n",
              "      <td>[8.446168209275129e-10]</td>\n",
              "      <td>[1.0342875913457369e-10]</td>\n",
              "    </tr>\n",
              "    <tr>\n",
              "      <th>18</th>\n",
              "      <td>[19]</td>\n",
              "      <td>[8.16616991255549]</td>\n",
              "      <td>[8.166169912567652]</td>\n",
              "      <td>[1.2160938922534115e-11]</td>\n",
              "      <td>[1.4891851446561936e-12]</td>\n",
              "      <td>[9.85380665952107e-11]</td>\n",
              "      <td>[1.2066619682221939e-11]</td>\n",
              "    </tr>\n",
              "    <tr>\n",
              "      <th>19</th>\n",
              "      <td>[20]</td>\n",
              "      <td>[8.166169912566382]</td>\n",
              "      <td>[8.166169912567652]</td>\n",
              "      <td>[1.270095140171179e-12]</td>\n",
              "      <td>[1.5553131440683296e-13]</td>\n",
              "      <td>[1.0890843782362936e-11]</td>\n",
              "      <td>[1.3336538302495681e-12]</td>\n",
              "    </tr>\n",
              "  </tbody>\n",
              "</table>\n",
              "</div>"
            ],
            "text/plain": [
              "   Expansion  ... Relative Approximate Error\n",
              "0        [1]  ...                      [1.0]\n",
              "1        [2]  ...       [0.6774193548387097]\n",
              "2        [3]  ...         [0.41564561734213]\n",
              "3        [4]  ...       [0.2253778199605753]\n",
              "4        [5]  ...      [0.10580424248458074]\n",
              "5        [6]  ...      [0.04254708381488018]\n",
              "6        [7]  ...      [0.01467297700140558]\n",
              "7        [8]  ...     [0.004382601357743159]\n",
              "8        [9]  ...    [0.0011491108814939291]\n",
              "9       [10]  ...     [0.000268054000136033]\n",
              "10      [11]  ...    [5.628817149190499e-05]\n",
              "11      [12]  ...   [1.0745808174850064e-05]\n",
              "12      [13]  ...   [1.8805128942579273e-06]\n",
              "13      [14]  ...   [3.0377506765772234e-07]\n",
              "14      [15]  ...   [4.5566258148508595e-08]\n",
              "15      [16]  ...    [6.379276095745513e-09]\n",
              "16      [17]  ...    [8.372798821810223e-10]\n",
              "17      [18]  ...   [1.0342875913457369e-10]\n",
              "18      [19]  ...   [1.2066619682221939e-11]\n",
              "19      [20]  ...   [1.3336538302495681e-12]\n",
              "\n",
              "[20 rows x 7 columns]"
            ]
          },
          "metadata": {
            "tags": []
          },
          "execution_count": 37
        }
      ]
    },
    {
      "cell_type": "markdown",
      "metadata": {
        "id": "gZ_-18ecGtWU"
      },
      "source": [
        "Notice how the error becomes almost nonexistent after the 10th expansion. However, to get an approximation that is accurate up to 10 decimal places, we need to go to the 20th expansion. Next, I began working on the visualizations. First I constructed an array for the x-values (each new expansion). Then I plotted each estimation at every expansion as a scatter plot, with the dashed line being the true value of $e^x$ at $2.1$."
      ]
    },
    {
      "cell_type": "code",
      "metadata": {
        "colab": {
          "base_uri": "https://localhost:8080/",
          "height": 279
        },
        "id": "K-HAj5e3meoY",
        "outputId": "24a90221-0b32-43c2-f42a-78f4f6f9fc8a"
      },
      "source": [
        "expansion = np.array(0)\r\n",
        "for i in range(1,21):\r\n",
        "  expansion = np.append(expansion,i)\r\n",
        "\r\n",
        "ex = np.array(0)\r\n",
        "for i in range(1,21):\r\n",
        "  ex = np.append(ex,e_to_the_x(2.1,i))\r\n",
        "\r\n",
        "calc = np.array(math.exp(2.1))\r\n",
        "for i in range(0,21):\r\n",
        "  calc = np.append(calc, T_e_to_the_x(2.1))\r\n",
        "\r\n",
        "%matplotlib inline\r\n",
        "plt.plot(calc, linestyle = 'dashed')\r\n",
        "plt.xlabel('Expansions')\r\n",
        "plt.ylabel('Approximations')\r\n",
        "plt.scatter(expansion,ex)\r\n",
        "plt.show()\r\n",
        "\r\n",
        "\r\n"
      ],
      "execution_count": 40,
      "outputs": [
        {
          "output_type": "display_data",
          "data": {
            "image/png": "[encoded data removed]",
            "text/plain": [
              "<Figure size 432x288 with 1 Axes>"
            ]
          },
          "metadata": {
            "tags": [],
            "needs_background": "light"
          }
        }
      ]
    },
    {
      "cell_type": "markdown",
      "metadata": {
        "id": "5YPrWTDnIrRb"
      },
      "source": [
        "Once we get to the 7th or 8th expansion, we see the approximation gets almost irrelevantly close to the true value. Below, I have graphed the 5th-Order Taylor polynomial in orange alongside the graph of $e^x$ in blue."
      ]
    },
    {
      "cell_type": "code",
      "metadata": {
        "colab": {
          "base_uri": "https://localhost:8080/",
          "height": 265
        },
        "id": "QfaaKjvKIYYI",
        "outputId": "f5318057-8e69-493e-a51e-d214067e9938"
      },
      "source": [
        "%matplotlib inline\r\n",
        "x = np.arange(0,5,.01)\r\n",
        "plt.plot(x,np.exp(x))\r\n",
        "plt.xlim(x[0]-1,x[-1]+1)\r\n",
        "plt.plot(x,e_to_the_x(x,5))\r\n",
        "\r\n",
        "plt.show()"
      ],
      "execution_count": 41,
      "outputs": [
        {
          "output_type": "display_data",
          "data": {
            "image/png": "[encoded data removed]",
            "text/plain": [
              "<Figure size 432x288 with 1 Axes>"
            ]
          },
          "metadata": {
            "tags": [],
            "needs_background": "light"
          }
        }
      ]
    },
    {
      "cell_type": "markdown",
      "metadata": {
        "id": "8FD1tl84JSq5"
      },
      "source": [
        "From $x=0$ to $x=2$, the lines are almost indistinguishable. At approximately $x=2.1$ the two graphs begin to diverge, so I would say the approximation using 5 terms in the Taylor series is only accurate up to $x=2$."
      ]
    },
    {
      "cell_type": "markdown",
      "metadata": {
        "id": "B9u2fOkNK1rv"
      },
      "source": [
        "#Conclusion\r\n",
        "All in all, I enjoyed this project. I have never seen the gap between computer science bridged together before, so it was fascinating to connect the two myself. I wish I had had more time to generate more visual data, but I have 7 more projects to go to make up for it."
      ]
    }
  ]
}